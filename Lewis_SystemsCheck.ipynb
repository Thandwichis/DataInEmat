{
 "cells": [
  {
   "cell_type": "code",
   "execution_count": 1,
   "id": "83e5463e-9ac5-42ff-a256-45c8067fe1c1",
   "metadata": {},
   "outputs": [
    {
     "data": {
      "text/plain": [
       "'\\nI hope to be able to stretch my legs in python and use it for\\ndata prossessing and analytics. I program a lot but have little\\nexperience working with datasets.\\n'"
      ]
     },
     "execution_count": 1,
     "metadata": {},
     "output_type": "execute_result"
    }
   ],
   "source": [
    "\"\"\"\n",
    "I hope to be able to stretch my legs in python and use it for\n",
    "data prossessing and analytics. I program a lot but have little\n",
    "experience working with datasets.\n",
    "\"\"\""
   ]
  },
  {
   "cell_type": "code",
   "execution_count": 2,
   "id": "cffc6136-e753-4595-a20b-ed96f444f412",
   "metadata": {},
   "outputs": [
    {
     "name": "stdout",
     "output_type": "stream",
     "text": [
      "Hello World! Here are some numbers: 12345\n"
     ]
    }
   ],
   "source": [
    "def addNumbers(strin):\n",
    "    for i in range(1,6):#yay for loop\n",
    "        strin = strin + str(i)\n",
    "    return strin #yay return statement\n",
    "\n",
    "\n",
    "outStr = \"Hello\"#yay variable declaration and assignment\n",
    "\n",
    "outStr = outStr + \" World! Here are some numbers: \"#oooh bonus concatination\n",
    "\n",
    "\n",
    "outStr = addNumbers(outStr)#Function call that adds 12345 to the end of a string\n",
    "\n",
    "print(outStr)#yay print statement\n",
    "\n",
    "\n"
   ]
  }
 ],
 "metadata": {
  "kernelspec": {
   "display_name": "Python 3 (ipykernel)",
   "language": "python",
   "name": "python3"
  },
  "language_info": {
   "codemirror_mode": {
    "name": "ipython",
    "version": 3
   },
   "file_extension": ".py",
   "mimetype": "text/x-python",
   "name": "python",
   "nbconvert_exporter": "python",
   "pygments_lexer": "ipython3",
   "version": "3.12.4"
  }
 },
 "nbformat": 4,
 "nbformat_minor": 5
}
