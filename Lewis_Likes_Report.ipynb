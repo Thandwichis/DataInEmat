{
 "cells": [
  {
   "cell_type": "markdown",
   "id": "9e709a4d-dd70-4899-b47c-9c5169ec8ceb",
   "metadata": {},
   "source": [
    "# ***Lewis_Likes_Report***\n",
    "\n",
    "\n",
    "## What is the source of your data?\n",
    "The source of my data is mainly MY activity extrapolated on the Meta suite, as well as assumptions Meta made about my activity and is stored along with my data. So this data I downloaded from Facebook is sourced from myself and data inferred by facebook.\n",
    "\n",
    "## Why was this data created? What can it be used for?\n",
    "\n",
    "This data was created as a byproduct of my regular use of Facebook. Its purposes are varied. For me personally, it serves as a digital archive of my social interactions and memories. For Facebook, it’s a means to optimize the platform, improving user experience through tailored content and advertising. Additionally, the data strengthens social connectivity by preserving communications with friends and family. Beyond that, Facebook and third parties may use this data to analyze behavioral patterns for marketing or research.\n",
    "\n",
    "## In what ways may this data be reliable?\n",
    "\n",
    "The data is reliable in the sense that it provides a consistent record of my actions and posts. Facebook logs every interaction I make, offering an unaltered view of my digital history unless I’ve intentionally deleted or edited something. It captures an accurate timeline of my activity, which can be revisited at any time.\n",
    "\n",
    "## In what ways may this data be unreliable?\n",
    "\n",
    "However, the data may also be unreliable. If I’ve deleted posts or messages, they would not appear in the dataset, leading to gaps in the overall picture. Additionally, while it records my actions, it lacks the emotional or contextual nuance behind those actions, making it difficult to fully interpret my intent. Tthe influence of Facebook’s algorithms, which shape what content I see and engage with, is not captured in the raw data itself. Without capturing my motivations or reasons for engagement, the data can be misleading when viewed without proper context.\n"
   ]
  },
  {
   "cell_type": "code",
   "execution_count": 1,
   "id": "24925199-0899-4c4e-a939-9094fe687ce8",
   "metadata": {
    "scrolled": true
   },
   "outputs": [],
   "source": [
    "#imports\n",
    "import json\n",
    "import matplotlib as mpl\n",
    "import pandas as pd"
   ]
  },
  {
   "cell_type": "markdown",
   "id": "48ef7f13-dba5-4027-a451-bac8efbdd80b",
   "metadata": {},
   "source": [
    "#### *!DISCLAMER!*\n",
    "I USED FACEBOOK LIKES DATA B/C I DO NOT HAVE ANY INSTA DATA! (I talked with you in class about it)"
   ]
  },
  {
   "cell_type": "code",
   "execution_count": 2,
   "id": "23166a95-2b0f-40c4-8848-1e28b4117a0e",
   "metadata": {},
   "outputs": [
    {
     "data": {
      "text/plain": [
       "[{'reaction': {'reaction': 'LIKE', 'actor': 'Collin William Lewis'}}]"
      ]
     },
     "execution_count": 2,
     "metadata": {},
     "output_type": "execute_result"
    }
   ],
   "source": [
    "\n",
    "#facebook likes data import\n",
    "with open(r'Data\\facebook\\your_facebook_activity\\comments_and_reactions\\likes_and_reactions_1.json') as face:\n",
    "    fb_likes_dict = json.load(face)\n",
    "\n",
    "fb_likes_dict[0]['data']\n"
   ]
  },
  {
   "cell_type": "code",
   "execution_count": 3,
   "id": "8c3423a6-6577-424d-9ed6-1b5e85b87179",
   "metadata": {},
   "outputs": [
    {
     "data": {
      "text/plain": [
       "'LIKE'"
      ]
     },
     "execution_count": 3,
     "metadata": {},
     "output_type": "execute_result"
    }
   ],
   "source": [
    "#munging cell just trying to get everything clean\n",
    "\n",
    "likes_df = pd.DataFrame(fb_likes_dict)\n",
    "\n",
    "\n",
    "\n",
    "likes_df['data'][0][0]['reaction']['reaction']\n",
    "\n",
    "\n"
   ]
  },
  {
   "cell_type": "code",
   "execution_count": 4,
   "id": "aa57555b-f495-4b16-924d-2ad6fb3c020f",
   "metadata": {},
   "outputs": [
    {
     "data": {
      "text/plain": [
       "0       Collin William Lewis\n",
       "1       Collin William Lewis\n",
       "2       Collin William Lewis\n",
       "3       Collin William Lewis\n",
       "4       Collin William Lewis\n",
       "                ...         \n",
       "1967    Collin William Lewis\n",
       "1968    Collin William Lewis\n",
       "1969    Collin William Lewis\n",
       "1970    Collin William Lewis\n",
       "1971    Collin William Lewis\n",
       "Name: actor, Length: 1972, dtype: object"
      ]
     },
     "execution_count": 4,
     "metadata": {},
     "output_type": "execute_result"
    }
   ],
   "source": [
    "# Tidying the dataframe using what i learned by munging\n",
    "likes_df_tidy = likes_df.drop(columns = ['data'])\n",
    "likes_df_tidy['reaction'] = [x[0]['reaction']['reaction'] for x in likes_df['data']]\n",
    "likes_df_tidy['actor'] = [i[0]['reaction']['actor'] for i in likes_df['data']]\n",
    "\n",
    "likes_df_tidy['actor']"
   ]
  },
  {
   "cell_type": "code",
   "execution_count": 5,
   "id": "50570240-2fef-48d4-8e55-b6be5c844199",
   "metadata": {},
   "outputs": [
    {
     "data": {
      "text/html": [
       "<div>\n",
       "<style scoped>\n",
       "    .dataframe tbody tr th:only-of-type {\n",
       "        vertical-align: middle;\n",
       "    }\n",
       "\n",
       "    .dataframe tbody tr th {\n",
       "        vertical-align: top;\n",
       "    }\n",
       "\n",
       "    .dataframe thead th {\n",
       "        text-align: right;\n",
       "    }\n",
       "</style>\n",
       "<table border=\"1\" class=\"dataframe\">\n",
       "  <thead>\n",
       "    <tr style=\"text-align: right;\">\n",
       "      <th></th>\n",
       "      <th>title</th>\n",
       "    </tr>\n",
       "    <tr>\n",
       "      <th>reaction</th>\n",
       "      <th></th>\n",
       "    </tr>\n",
       "  </thead>\n",
       "  <tbody>\n",
       "    <tr>\n",
       "      <th></th>\n",
       "      <td>4</td>\n",
       "    </tr>\n",
       "    <tr>\n",
       "      <th>SORRY</th>\n",
       "      <td>5</td>\n",
       "    </tr>\n",
       "    <tr>\n",
       "      <th>ANGER</th>\n",
       "      <td>8</td>\n",
       "    </tr>\n",
       "    <tr>\n",
       "      <th>WOW</th>\n",
       "      <td>16</td>\n",
       "    </tr>\n",
       "    <tr>\n",
       "      <th>SUPPORT</th>\n",
       "      <td>31</td>\n",
       "    </tr>\n",
       "    <tr>\n",
       "      <th>HAHA</th>\n",
       "      <td>58</td>\n",
       "    </tr>\n",
       "    <tr>\n",
       "      <th>LOVE</th>\n",
       "      <td>263</td>\n",
       "    </tr>\n",
       "    <tr>\n",
       "      <th>LIKE</th>\n",
       "      <td>1587</td>\n",
       "    </tr>\n",
       "  </tbody>\n",
       "</table>\n",
       "</div>"
      ],
      "text/plain": [
       "          title\n",
       "reaction       \n",
       "              4\n",
       "SORRY         5\n",
       "ANGER         8\n",
       "WOW          16\n",
       "SUPPORT      31\n",
       "HAHA         58\n",
       "LOVE        263\n",
       "LIKE       1587"
      ]
     },
     "execution_count": 5,
     "metadata": {},
     "output_type": "execute_result"
    }
   ],
   "source": [
    "# display the data grouped by reaction type, i notice that for 4 entries there is a blank reaction type.\n",
    "\n",
    "likes_df_tidy.drop(columns = ['timestamp']).drop(columns = ['actor']).groupby('reaction').count().sort_values('title')"
   ]
  },
  {
   "cell_type": "markdown",
   "id": "af1a6d9f-92bc-40db-9b80-ec79b5069219",
   "metadata": {},
   "source": [
    "### Hypothesis\n",
    "\n",
    "Users who engage in more frequent messaging with a particular group of friends on Facebook are more likely to post about shared experiences with those friends on their timeline.\n",
    "\n",
    "### Theoretical Elements\n",
    "\n",
    "The hypothesis is based on the theory of **social reinforcement** and **group affiliation**. The more frequently I communicate with a specific group of friends via direct messaging, the stronger the sense of connection and social bonding with that group. This increased bond could lead to public displays of friendship and shared experiences through timeline posts. Social media platforms often serve as spaces where individuals reinforce their social ties by publicly acknowledging those they are close to, so my direct messaging interactions may correlate with more public interactions such as group photos, event mentions, or tagged posts with those same friends.\n",
    "\n",
    "### Statistical Elements\n",
    "\n",
    "To test this hypothesis, I could analyze two datasets: my Facebook messaging data (number of messages exchanged with certain friends) and my timeline posts (specifically posts where those friends are tagged or mentioned). A correlation analysis would measure the relationship between the frequency of messaging and the number of shared posts about those friends.\n",
    "\n",
    "- **Independent Variable:** The frequency of direct messages exchanged with a specific group of friends.\n",
    "- **Dependent Variable:** The number of timeline posts tagging or mentioning those same friends.\n",
    "- **Control Variables:** Other factors that might influence the number of posts, such as the overall frequency of my Facebook usage or external events (e.g., holidays, shared events).\n",
    "\n",
    "### Chosen JSON file and what it represents\n",
    "\n",
    "I will use the ***messages.json*** file, which I believe contains my Facebook messaging data, including conversations, timestamps, and participants. This file will help test my hypothesis because it should include the frequency of direct messages exchanged with specific friends or groups, allowing me to analyze which individuals or groups I communicate with most often. I can then compare this data with my timeline posts to see if there is a correlation between messaging frequency and posts mentioning those friends.\n",
    "\n",
    "\n",
    "This DataFrame should follow the tidy data principles, as each row will represent a single message, with variables like the participants and timestamps spread across different columns. However, the initial exploration might reveal areas that need further tidying, such as nested elements (e.g., if messages contain attachments) or missing values in some columns.\n",
    "\n",
    "By analyzing the frequency of messages with specific participants, I can create a dataset that tracks how often I communicate with certain friends or groups, which will help in testing my hypothesis about the relationship between private messaging and public posts.\n",
    "\n",
    "The next step involves extracting relevant columns and ensuring that the data meets the requirements of a tidy DataFrame, with one observation per row and one variable per column. I would need to check whether the participants and timestamps are properly structured and if there are any additional elements (like group chats) that could complicate the analysis"
   ]
  }
 ],
 "metadata": {
  "kernelspec": {
   "display_name": "Python 3 (ipykernel)",
   "language": "python",
   "name": "python3"
  },
  "language_info": {
   "codemirror_mode": {
    "name": "ipython",
    "version": 3
   },
   "file_extension": ".py",
   "mimetype": "text/x-python",
   "name": "python",
   "nbconvert_exporter": "python",
   "pygments_lexer": "ipython3",
   "version": "3.12.4"
  }
 },
 "nbformat": 4,
 "nbformat_minor": 5
}
